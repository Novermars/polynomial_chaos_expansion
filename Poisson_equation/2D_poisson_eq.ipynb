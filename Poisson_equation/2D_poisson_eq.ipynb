{
 "cells": [
  {
   "cell_type": "markdown",
   "id": "local-building",
   "metadata": {},
   "source": [
    "# Polynomial chaos expansion for a 2D Poisson's equation\n",
    "\n",
    "In this notebook we're going to solve\n",
    "\\begin{align*}\n",
    "-&\\nabla \\kappa(x,y) \\nabla u(x,y) = f(x,y), \\quad (x,y) \\in \\Omega\\\\\n",
    "&u(x,y) = 0, \\:\\:\\; \\qquad \\qquad \\qquad (x,y) \\in \\partial \\Omega\n",
    "\\end{align*}\n",
    "where $\\kappa$ is distributed according to some known distribution and for convenience we consider $\\Omega = [0, 1] \\times [0, 1]$"
   ]
  },
  {
   "cell_type": "markdown",
   "id": "color-arbitration",
   "metadata": {},
   "source": [
    "## About $\\kappa$\n",
    "\n",
    "The function $(x,y; \\omega) \\mapsto \\kappa(x,y; \\omega)$ is our stochastic parameter, which determines the diffusion properties of the problem. First we are going to consider that $\\kappa$ is constant with respect to $(x,y)$. Furthermore, we impose that it is positive."
   ]
  },
  {
   "cell_type": "markdown",
   "id": "double-origin",
   "metadata": {},
   "source": [
    "## About $f(x,y)$\n",
    "\n",
    "We also have to pick some function $f:\\Omega \\to \\mathbb{R}$"
   ]
  },
  {
   "cell_type": "markdown",
   "id": "opponent-biodiversity",
   "metadata": {},
   "source": [
    "## Finite difference discretization\n",
    "\n",
    "To solve this stationary PDE, we are going to use a finite difference discretization. "
   ]
  }
 ],
 "metadata": {
  "kernelspec": {
   "display_name": "Python 3",
   "language": "python",
   "name": "python3"
  },
  "language_info": {
   "codemirror_mode": {
    "name": "ipython",
    "version": 3
   },
   "file_extension": ".py",
   "mimetype": "text/x-python",
   "name": "python",
   "nbconvert_exporter": "python",
   "pygments_lexer": "ipython3",
   "version": "3.8.5"
  }
 },
 "nbformat": 4,
 "nbformat_minor": 5
}
