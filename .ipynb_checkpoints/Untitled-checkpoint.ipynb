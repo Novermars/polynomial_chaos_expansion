{
 "cells": [
  {
   "cell_type": "markdown",
   "id": "oriented-quantity",
   "metadata": {},
   "source": [
    "# Polynomial Chaos Expansion with a simple SEIR model"
   ]
  },
  {
   "cell_type": "markdown",
   "id": "classified-trailer",
   "metadata": {},
   "source": [
    "## Introduction\n",
    "\n",
    "In this notebook we will use Polynomial Chaos expansion on a simple SEIR model, which is given by\n",
    "\n",
    "\\begin{align*}\n",
    "\\frac{\\mathrm{d}S}{\\mathrm{d}t} &= - \\beta IS \\tag{Susceptible}\\\\\n",
    "\\frac{\\mathrm{d}E}{\\mathrm{d}t} &= \\beta IS - \\alpha E  \\tag{Exposed}\\\\\n",
    "\\frac{\\mathrm{d}I}{\\mathrm{d}t} &= -\\gamma I + \\alpha E \\tag{Infectious}\\\\\n",
    "\\frac{\\mathrm{d}R}{\\mathrm{d}t} &= \\gamma I \\tag{Recovered}\n",
    "\\end{align*}\n",
    "\n",
    "With the initial condition $(S(0), E(0), I(0), R(0)) = (1-\\delta, \\delta, 0, 0)$ for some small $\\delta$."
   ]
  },
  {
   "cell_type": "markdown",
   "id": "focused-plaintiff",
   "metadata": {},
   "source": [
    "### Parameters\n",
    "\n",
    "We have three parameters in this model, $\\alpha, \\beta$ and $\\gamma$. For those we assume for now that $\\alpha \\sim \\mathcal{U}(0.15, 0.25)$, $\\beta \\sim \\mathcal{U}(0.95, 1.05)$ and that $\\gamma \\sim \\mathcal{U}(0.45, 0.55)$"
   ]
  },
  {
   "cell_type": "markdown",
   "id": "hourly-arrow",
   "metadata": {},
   "source": [
    "# Chaospy\n",
    "\n",
    "For this example we are going to use the ChaosPy library to solve this model"
   ]
  },
  {
   "cell_type": "code",
   "execution_count": 2,
   "id": "exposed-tractor",
   "metadata": {},
   "outputs": [],
   "source": [
    "%matplotlib inline"
   ]
  },
  {
   "cell_type": "code",
   "execution_count": 3,
   "id": "emerging-crisis",
   "metadata": {},
   "outputs": [],
   "source": [
    "import numpy as np\n",
    "import chaospy\n",
    "import matplotlib as plt"
   ]
  },
  {
   "cell_type": "code",
   "execution_count": null,
   "id": "duplicate-testimony",
   "metadata": {},
   "outputs": [],
   "source": [
    "def ode_function(S, E, I, R, alpha, beta, gamma):\n",
    "    dS = -beta * I * S\n",
    "    dE = beta * I * S - alpha * E\n",
    "    dI = -gamma * I + alpha * E\n",
    "    dR = gamma * I\n",
    "    \n",
    "    return np.array([dS, dE, dI, dR])"
   ]
  }
 ],
 "metadata": {
  "kernelspec": {
   "display_name": "Python 3",
   "language": "python",
   "name": "python3"
  },
  "language_info": {
   "codemirror_mode": {
    "name": "ipython",
    "version": 3
   },
   "file_extension": ".py",
   "mimetype": "text/x-python",
   "name": "python",
   "nbconvert_exporter": "python",
   "pygments_lexer": "ipython3",
   "version": "3.8.5"
  }
 },
 "nbformat": 4,
 "nbformat_minor": 5
}
